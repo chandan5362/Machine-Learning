{
  "nbformat": 4,
  "nbformat_minor": 0,
  "metadata": {
    "colab": {
      "name": "multilayer_perceptron.ipynb",
      "provenance": [],
      "collapsed_sections": [],
      "authorship_tag": "ABX9TyMatz7ChfMqI+c6uMeHjZn0",
      "include_colab_link": true
    },
    "kernelspec": {
      "name": "python3",
      "display_name": "Python 3"
    }
  },
  "cells": [
    {
      "cell_type": "markdown",
      "metadata": {
        "id": "view-in-github",
        "colab_type": "text"
      },
      "source": [
        "<a href=\"https://colab.research.google.com/github/chandan5362/Machine-Learning/blob/main/multilayer_perceptron.ipynb\" target=\"_parent\"><img src=\"https://colab.research.google.com/assets/colab-badge.svg\" alt=\"Open In Colab\"/></a>"
      ]
    },
    {
      "cell_type": "code",
      "metadata": {
        "id": "AZp9BZ5oCq2U"
      },
      "source": [
        "import numpy as np\n",
        "import pandas as pd"
      ],
      "execution_count": null,
      "outputs": []
    },
    {
      "cell_type": "code",
      "metadata": {
        "colab": {
          "base_uri": "https://localhost:8080/"
        },
        "id": "KwUESzVKTmDG",
        "outputId": "6941c02b-598b-49f1-c1d9-0bfe3c961357"
      },
      "source": [
        "x = np.asarray([-2,-4,-6,-6,4])\n",
        "x-=x.max()\n",
        "x"
      ],
      "execution_count": null,
      "outputs": [
        {
          "output_type": "execute_result",
          "data": {
            "text/plain": [
              "array([ -6,  -8, -10, -10,   0])"
            ]
          },
          "metadata": {
            "tags": []
          },
          "execution_count": 7
        }
      ]
    },
    {
      "cell_type": "code",
      "metadata": {
        "id": "J8oV3zZbF_qS",
        "colab": {
          "resources": {
            "http://localhost:8080/nbextensions/google.colab/files.js": {
              "data": "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",
              "ok": true,
              "headers": [
                [
                  "content-type",
                  "application/javascript"
                ]
              ],
              "status": 200,
              "status_text": ""
            }
          },
          "base_uri": "https://localhost:8080/",
          "height": 133
        },
        "outputId": "f57ffaff-bf82-4d63-8a32-9135ccca7192"
      },
      "source": [
        "from google.colab import files\n",
        "uploaded = files.upload()"
      ],
      "execution_count": null,
      "outputs": [
        {
          "output_type": "display_data",
          "data": {
            "text/html": [
              "\n",
              "     <input type=\"file\" id=\"files-8dfcb16b-9e94-440d-a268-4d1f1ded1324\" name=\"files[]\" multiple disabled\n",
              "        style=\"border:none\" />\n",
              "     <output id=\"result-8dfcb16b-9e94-440d-a268-4d1f1ded1324\">\n",
              "      Upload widget is only available when the cell has been executed in the\n",
              "      current browser session. Please rerun this cell to enable.\n",
              "      </output>\n",
              "      <script src=\"/nbextensions/google.colab/files.js\"></script> "
            ],
            "text/plain": [
              "<IPython.core.display.HTML object>"
            ]
          },
          "metadata": {
            "tags": []
          }
        },
        {
          "output_type": "stream",
          "text": [
            "Saving test1.csv to test1.csv\n",
            "Saving training1.csv to training1.csv\n"
          ],
          "name": "stdout"
        }
      ]
    },
    {
      "cell_type": "code",
      "metadata": {
        "id": "aLL77X5RIBtA"
      },
      "source": [
        "import io\n",
        "train_df = pd.read_csv(io.BytesIO(uploaded['training1.csv']))\n",
        "test_df = pd.read_csv(io.BytesIO(uploaded['test1.csv']))"
      ],
      "execution_count": null,
      "outputs": []
    },
    {
      "cell_type": "code",
      "metadata": {
        "id": "_S-h0vbeJPAZ",
        "colab": {
          "base_uri": "https://localhost:8080/"
        },
        "outputId": "3bc3317e-93f4-4619-9f0e-e406f4d6ed39"
      },
      "source": [
        "train_df.shape"
      ],
      "execution_count": null,
      "outputs": [
        {
          "output_type": "execute_result",
          "data": {
            "text/plain": [
              "(6668, 193)"
            ]
          },
          "metadata": {
            "tags": []
          },
          "execution_count": 4
        }
      ]
    },
    {
      "cell_type": "code",
      "metadata": {
        "id": "kBNXvdhpJSOI",
        "colab": {
          "base_uri": "https://localhost:8080/"
        },
        "outputId": "d96b1542-14b8-435a-f85f-0c7b62cb391e"
      },
      "source": [
        "test_df.shape"
      ],
      "execution_count": null,
      "outputs": [
        {
          "output_type": "execute_result",
          "data": {
            "text/plain": [
              "(3331, 193)"
            ]
          },
          "metadata": {
            "tags": []
          },
          "execution_count": 5
        }
      ]
    },
    {
      "cell_type": "markdown",
      "metadata": {
        "id": "H-UPVPkrhweA"
      },
      "source": [
        "## **Softmax**"
      ]
    },
    {
      "cell_type": "code",
      "metadata": {
        "id": "T1HfH8WMh43B"
      },
      "source": [
        "def convert_to_one_hot(labels):\n",
        "    \"\"\"\n",
        "    convert the output class to one hot variable\n",
        "    say, if there are k different classes and m training example,\n",
        "    then output matrix is of the size (k,m)\n",
        "\n",
        "    It returns the one hot converted vector \n",
        "    \"\"\"\n",
        "    class_count = len(set(labels))\n",
        "    one_hot = np.zeros((len(labels),class_count))\n",
        "    \n",
        "    for i in range(len(labels)):\n",
        "        one_hot[i,labels[i]] = 1\n",
        "    return one_hot"
      ],
      "execution_count": null,
      "outputs": []
    },
    {
      "cell_type": "code",
      "metadata": {
        "id": "0MQBt0cMiaGi"
      },
      "source": [
        "def random_shuffle(train,test,flag):\n",
        "    \"\"\"\n",
        "    shuffle the train set so as to train the model better.\n",
        "    \"\"\"\n",
        "    np.random.seed(4)\n",
        "    rand = np.random.permutation(train.shape[0])\n",
        "    x_train = train.iloc[:,:192].values[rand]\n",
        "    y_train = train.iloc[:,192].values[rand]\n",
        "    x_test = test.iloc[:,:192].values\n",
        "    y_test = test.iloc[:,192].values\n",
        "    if flag == 0:\n",
        "      x_train = np.insert(x_train,0,1,axis = 1)\n",
        "      x_test = np.insert(x_test,0,1,axis = 1)\n",
        "\n",
        "    return [x_train,y_train,x_test,y_test]"
      ],
      "execution_count": null,
      "outputs": []
    },
    {
      "cell_type": "code",
      "metadata": {
        "id": "vOyi_LhQicR5"
      },
      "source": [
        "#initialize the weight parameters\n",
        "def initialize_weight(train,classes,num_of_feature):\n",
        "    \"\"\"\n",
        "    initializes the weight for softmax model\n",
        "    \"\"\"\n",
        "    np.random.seed(0)\n",
        "    weight = np.random.randn(classes,num_of_feature)*0.01\n",
        "    return weight"
      ],
      "execution_count": null,
      "outputs": []
    },
    {
      "cell_type": "code",
      "metadata": {
        "id": "aTrPAPAEidCl"
      },
      "source": [
        "def find_z(weight,x):\n",
        "    \"\"\"\n",
        "    return the dot product of weight with input variable\n",
        "    \"\"\"\n",
        "    return np.dot(weight,x)  "
      ],
      "execution_count": null,
      "outputs": []
    },
    {
      "cell_type": "code",
      "metadata": {
        "id": "Z6IV1uPZieLR"
      },
      "source": [
        "def calculate_softmax(to_b_cal_soft):\n",
        "    \"\"\"\n",
        "    return the softmax of input array\n",
        "    \"\"\"\n",
        "    x_item  = np.exp(to_b_cal_soft)\n",
        "    return x_item/np.sum(x_item,axis = 0)"
      ],
      "execution_count": null,
      "outputs": []
    },
    {
      "cell_type": "code",
      "metadata": {
        "id": "STV074Fjieo3"
      },
      "source": [
        "def cross_entropy_gradient(__y,y,x,m):\n",
        "    \"\"\"\n",
        "    return the cross entropy gradient of expected value and predicted value\n",
        "    \"\"\"\n",
        "    return 1/m*(np.dot(__y-y,x))"
      ],
      "execution_count": null,
      "outputs": []
    },
    {
      "cell_type": "code",
      "metadata": {
        "id": "xvQOz4PqifNh"
      },
      "source": [
        "def cross_entropy_loss(yhat,y,m):\n",
        "    \"\"\"\n",
        "    calculate the cross entropy loss of predicted value with respect \n",
        "    to original value\n",
        "    \"\"\"\n",
        "    loss_total = 0\n",
        "    for i in range(len(yhat)):\n",
        "        loss_c = 0\n",
        "        \n",
        "        for j in range(y.shape[1]):\n",
        "            loss_c+=(np.log(yhat[i][j])*y[i][j])\n",
        "        loss_total+=loss_c\n",
        "    return -1/m*(loss_total)\n",
        "            "
      ],
      "execution_count": null,
      "outputs": []
    },
    {
      "cell_type": "code",
      "metadata": {
        "id": "ltaP7ZzajGx4"
      },
      "source": [
        "def train(weight,X,Y,learning_rate = 0.1, max_iter = 10001, print_true = True):\n",
        "    \"\"\"\n",
        "    train the model with batch gradient descent over m taining example.\n",
        "    if there are k classes and m training example and n input features\n",
        "    \n",
        "    weight  =  matrix of size (k,n)\n",
        "    X = matrix of size (m,n)\n",
        "    Y = matrix of size (m,k)\n",
        "    to_b_cal_soft = matrix of size (k,m)\n",
        "    soft = softmax version of to_b_cal_soft matrix and of the same shape\n",
        "    loss = scalar quantity\n",
        "    output of cross entropy gradient is (k,n) matrix\n",
        "    \n",
        "    \"\"\"\n",
        "    cost = []\n",
        "    m = X.shape[0]\n",
        "    for i in range(max_iter):\n",
        "        to_b_cal_soft = find_z(weight,X.T)\n",
        "        \n",
        "        soft_x = calculate_softmax(to_b_cal_soft)\n",
        "\n",
        "        loss = cross_entropy_loss(soft_x.T,Y,m)\n",
        "        if print_true and i%500 == 0:\n",
        "          cost.append(loss)\n",
        "          print(\"Cost after {} steps = {:.5f}\".format(i,loss))\n",
        "\n",
        "        weight = weight - learning_rate*cross_entropy_gradient(soft_x,Y.T,X,m)\n",
        "\n",
        "    return weight,cost"
      ],
      "execution_count": null,
      "outputs": []
    },
    {
      "cell_type": "code",
      "metadata": {
        "id": "B6iPwi8WjH9P"
      },
      "source": [
        "def predict_soft(x_test,y_test,weight_calculated):\n",
        "    \"\"\"\n",
        "    returns the final predicted value\n",
        "    \"\"\"\n",
        "    x_out = find_z(weight_calculated,x_test.T)\n",
        "    soft_test_out = calculate_softmax(x_out)\n",
        "    max_index_col = np.argmax(soft_test_out,axis = 0)\n",
        "    return max_index_col"
      ],
      "execution_count": null,
      "outputs": []
    },
    {
      "cell_type": "code",
      "metadata": {
        "id": "ugThIQbKkrGr"
      },
      "source": [
        ""
      ],
      "execution_count": null,
      "outputs": []
    },
    {
      "cell_type": "markdown",
      "metadata": {
        "id": "3qA7MQUahdJ2"
      },
      "source": [
        "## **Feed Forward Neural Net**"
      ]
    },
    {
      "cell_type": "code",
      "metadata": {
        "id": "xOZQVKxpJTpX"
      },
      "source": [
        "def initialize_parametrs(train,label):\n",
        "  \"\"\"\n",
        "  if there are m training set and n features,\n",
        "  hidden unit = h,\n",
        "  output label = k, then\n",
        "  W1 = (h,n)\n",
        "  W2 = (k,h)\n",
        "  \"\"\"\n",
        "  hidden_unit = 250\n",
        "  np.random.seed(4)\n",
        "  W1 = np.random.randn(hidden_unit,train.shape[1])*0.01 \n",
        "  W2 = np.random.randn(label,hidden_unit)*0.01\n",
        "  b1 = np.zeros((hidden_unit,1))\n",
        "  b2 = np.zeros((label,1))\n",
        "\n",
        "\n",
        "  return W1, W2, b1, b2\n"
      ],
      "execution_count": null,
      "outputs": []
    },
    {
      "cell_type": "code",
      "metadata": {
        "id": "hCNpP2-yCjGF"
      },
      "source": [
        "def z_out(W,X):\n",
        "  \"\"\"\n",
        "  input parameters\n",
        "  W = weight matrix of a given layer\n",
        "  X = input metrix of a given layer\n",
        "\n",
        "  return the dot product of W and X \n",
        "  \"\"\"\n",
        "  return np.dot(W,X)"
      ],
      "execution_count": null,
      "outputs": []
    },
    {
      "cell_type": "code",
      "metadata": {
        "id": "kq0eFoKNDlLg"
      },
      "source": [
        "def sigmoid(X):\n",
        "  \"\"\"\n",
        "  input\n",
        "  X is input feature\n",
        "  it returns sigmoid of the given input X\n",
        "  \"\"\"\n",
        "  return 1/(1 + np.exp(-X))"
      ],
      "execution_count": null,
      "outputs": []
    },
    {
      "cell_type": "code",
      "metadata": {
        "id": "AhFBHpvcEedF"
      },
      "source": [
        "def forward_propgation(x_train,y_train,w1,w2,b1,b2):\n",
        "  \"\"\"\n",
        "  input -\n",
        "  x_train = input feature for the first layer\n",
        "  y_train = class labels for one hot encoed vector of training set\n",
        "  w1 = weight matrix for hidden layer\n",
        "  w2 = weight matrix for output layer\n",
        "  b1 = bias for hidden layer\n",
        "  b2 = bias for output layer\n",
        "\n",
        "  output -\n",
        "  return the actiavted output for each layer \n",
        "\n",
        "  \"\"\"\n",
        "  \n",
        "  z1 = z_out(w1,x_train.T) + b1\n",
        "  a1 = sigmoid(z1)\n",
        "  \n",
        "  z2 = z_out(w2,a1)+b2\n",
        "  a2 = sigmoid(z2)\n",
        "\n",
        "  return a1,a2"
      ],
      "execution_count": null,
      "outputs": []
    },
    {
      "cell_type": "code",
      "metadata": {
        "id": "lf6-7ZdIG5yd"
      },
      "source": [
        "def squared_loss(a2,y_act):\n",
        "    \"\"\"\n",
        "    calculate the sum of squared loss of predicted value with respect \n",
        "    to original value\n",
        "\n",
        "    a2 = output from second layer\n",
        "    y_act = actual output value of all the training set\n",
        "\n",
        "    It returns the total loss for the predicted value  \n",
        "    \"\"\"\n",
        "    loss_total = 0\n",
        "    m = a2.shape[1] # total number of training examples\n",
        "    for i in range(a2.shape[1]):\n",
        "        loss_c = 0\n",
        "        \n",
        "        for j in range(a2.shape[0]):\n",
        "\n",
        "          loss_c+=((a2[j,i]-y_act[j,i])**2)\n",
        "        loss_total+=loss_c\n",
        "    return ((1/m)*(loss_total))/2\n",
        "            "
      ],
      "execution_count": null,
      "outputs": []
    },
    {
      "cell_type": "code",
      "metadata": {
        "id": "Au2Btws0T4Xk"
      },
      "source": [
        "def backPropagation(a1,a2,w1,w2,X, y_act):\n",
        "  \"\"\"\n",
        "  performs backprop to update the parameters\n",
        "  input -\n",
        "  a1,a2 = model output for first layer and second layer respectively.\n",
        "  w1,w2 = weight parameter for first and second layer respectively.\n",
        "  X = input features\n",
        "  y_act = actual output for the given training set\n",
        "\n",
        "  output -\n",
        "  returns the gradient vector for each parameter \n",
        "  \n",
        "  \"\"\"\n",
        "  m = X.shape[1]\n",
        "  dz2 = np.multiply((a2-y_act),np.multiply(a2,1-a2))\n",
        "  dw2 = (1/m) * (np.dot(dz2,a1.T))\n",
        "  db2 = (1/m) * np.sum(dz2,axis  = 1, keepdims=True)\n",
        "  da1 = np.dot(w2.T,dz2)\n",
        "  dz1 = np.multiply(da1,np.multiply(a1,1-a1))\n",
        "  dw1 = (1/m) * np.dot(dz1,X.T)\n",
        "  db1 = (1/m) * np.sum(dz1, axis=1, keepdims=True)\n",
        "\n",
        "  return dw1,db1,dw2,db2"
      ],
      "execution_count": null,
      "outputs": []
    },
    {
      "cell_type": "code",
      "metadata": {
        "id": "n2SQxaz4oj1s"
      },
      "source": [
        "def update_parameter(x_train,y_train,w1,w2,b1,b2,epochs = 10,l_r = 0.1,print_loss = True):\n",
        "  \"\"\"\n",
        "  update the model paramters using backprop.\n",
        "  \"\"\"\n",
        "  cost = []\n",
        "  for i in range(epochs):\n",
        "    a1,a2 = forward_propgation(x_train,y_train,w1,w2,b1,b2)\n",
        "    loss = squared_loss(a2,y_train)\n",
        "\n",
        "    if print_loss and i%500 == 0:\n",
        "      cost.append(loss)\n",
        "      print(\"Cost after {} steps = {:.5f}\".format(i,loss))\n",
        "\n",
        "    dw1,db1,dw2,db2 = backPropagation(a1,a2,w1,w2,x_train.T,y_train)\n",
        "    w1 = w1 - l_r*dw1\n",
        "    b1 = b1 - l_r*db1\n",
        "    w2 = w2 - l_r*dw2\n",
        "    b2 = b2 - l_r*db2\n",
        "  return w1,w2,b1,b2,cost"
      ],
      "execution_count": null,
      "outputs": []
    },
    {
      "cell_type": "code",
      "metadata": {
        "id": "ZZPhg7kK9uIS"
      },
      "source": [
        "def calculate_accuracy(y_act,y_pred):\n",
        "  \"\"\"\n",
        "  calculates acuracy for the give model\n",
        "  \"\"\"\n",
        "  total = len(y_pred)\n",
        "  tp = 0\n",
        "  for i in range(total):\n",
        "    if y_act[i] == y_pred[i]:\n",
        "      tp+=1\n",
        "  return tp,total\n"
      ],
      "execution_count": null,
      "outputs": []
    },
    {
      "cell_type": "code",
      "metadata": {
        "id": "we1hKRjptKNU"
      },
      "source": [
        "def predict(x_test, y_test,w1,b1,w2,b2):\n",
        "  \"\"\"\n",
        "  predicts the output for the test set.\n",
        "  \"\"\"\n",
        "  a1,a2 = forward_propgation(x_test,y_test,w1,w2,b1,b2)\n",
        "  y_pred = np.argmax(a2,axis = 0)\n",
        "  return y_pred\n"
      ],
      "execution_count": null,
      "outputs": []
    },
    {
      "cell_type": "markdown",
      "metadata": {
        "id": "c87gsTNAolMv"
      },
      "source": [
        "# FFNN\n"
      ]
    },
    {
      "cell_type": "code",
      "metadata": {
        "id": "Nwz8CNzfufGv"
      },
      "source": [
        "def neural_net(train_df,test_df):\n",
        "\n",
        "  x_train,y_train,x_test,y_test = random_shuffle(train_df,test_df,1)\n",
        "  \n",
        "  w1, w2, b1, b2 = initialize_parametrs(x_train,len(set(y_train)))\n",
        "  y_train = convert_to_one_hot(y_train)\n",
        "  y_train = y_train.T\n",
        "  w1,w2,b1,b2, cost = update_parameter(x_train,y_train,w1,w2,b1,b2,epochs = 10001,l_r = 0.1)\n",
        "  \n",
        "  y_pred_test = predict(x_test,y_test,w1,b1,w2,b2)\n",
        "  tp,total = calculate_accuracy(y_test,y_pred_test)\n",
        "\n",
        "  print(\"accuracy is {:.2f}%\".format((tp/total)*100))\n",
        "  return cost,tp\n"
      ],
      "execution_count": null,
      "outputs": []
    },
    {
      "cell_type": "code",
      "metadata": {
        "id": "XteGB1t-4wbS",
        "colab": {
          "base_uri": "https://localhost:8080/"
        },
        "outputId": "8e74a91b-b377-457c-810b-f9eaa87d53bb"
      },
      "source": [
        "cost_ffnn,tp_ffnn = neural_net(train_df,test_df)"
      ],
      "execution_count": null,
      "outputs": [
        {
          "output_type": "stream",
          "text": [
            "Cost after 0 steps = 1.24423\n",
            "Cost after 500 steps = 0.42558\n",
            "Cost after 1000 steps = 0.28250\n",
            "Cost after 1500 steps = 0.18313\n",
            "Cost after 2000 steps = 0.13920\n",
            "Cost after 2500 steps = 0.11649\n",
            "Cost after 3000 steps = 0.10254\n",
            "Cost after 3500 steps = 0.09295\n",
            "Cost after 4000 steps = 0.08591\n",
            "Cost after 4500 steps = 0.08048\n",
            "Cost after 5000 steps = 0.07612\n",
            "Cost after 5500 steps = 0.07252\n",
            "Cost after 6000 steps = 0.06946\n",
            "Cost after 6500 steps = 0.06681\n",
            "Cost after 7000 steps = 0.06447\n",
            "Cost after 7500 steps = 0.06237\n",
            "Cost after 8000 steps = 0.06046\n",
            "Cost after 8500 steps = 0.05872\n",
            "Cost after 9000 steps = 0.05711\n",
            "Cost after 9500 steps = 0.05562\n",
            "Cost after 10000 steps = 0.05422\n",
            "accuracy is 92.92%\n"
          ],
          "name": "stdout"
        }
      ]
    },
    {
      "cell_type": "code",
      "metadata": {
        "id": "yR_6HqpipGrU",
        "colab": {
          "base_uri": "https://localhost:8080/"
        },
        "outputId": "f46ae850-638b-4af5-f925-e365b07739d1"
      },
      "source": [
        "tp_ffnn"
      ],
      "execution_count": null,
      "outputs": [
        {
          "output_type": "execute_result",
          "data": {
            "text/plain": [
              "3095"
            ]
          },
          "metadata": {
            "tags": []
          },
          "execution_count": 211
        }
      ]
    },
    {
      "cell_type": "markdown",
      "metadata": {
        "id": "2Q6HLv-bospb"
      },
      "source": [
        "# SOFTMAX"
      ]
    },
    {
      "cell_type": "code",
      "metadata": {
        "id": "p078kYdz5hu6"
      },
      "source": [
        "def softmax(train_df, test_df):\n",
        "\n",
        "  x_train,y_train,x_test,y_test = random_shuffle(train_df,test_df,0)\n",
        "  y_train = convert_to_one_hot(y_train)\n",
        "  classes = y_train.shape[1]\n",
        "  feature = x_train.shape[1]\n",
        "  weight = initialize_weight(x_train,classes,feature)\n",
        "  weight_calculated,cost= train(weight,x_train,y_train)\n",
        "  yhat =predict_soft(x_test,y_test,weight_calculated)\n",
        "  tp,total = calculate_accuracy(y_test,yhat)\n",
        "\n",
        "  print(\"accuracy is {:.2f}%\".format((tp/total)*100))\n",
        "  return cost,tp\n"
      ],
      "execution_count": null,
      "outputs": []
    },
    {
      "cell_type": "code",
      "metadata": {
        "id": "yNHK5fua_ENC",
        "colab": {
          "base_uri": "https://localhost:8080/"
        },
        "outputId": "9b4fda1c-8b4d-440b-c72f-716502743b52"
      },
      "source": [
        "cost_soft, tp_soft = softmax(train_df,test_df)"
      ],
      "execution_count": null,
      "outputs": [
        {
          "output_type": "stream",
          "text": [
            "Cost after 0 steps = 2.34473\n",
            "Cost after 500 steps = 0.25042\n",
            "Cost after 1000 steps = 0.22251\n",
            "Cost after 1500 steps = 0.20879\n",
            "Cost after 2000 steps = 0.19994\n",
            "Cost after 2500 steps = 0.19350\n",
            "Cost after 3000 steps = 0.18847\n",
            "Cost after 3500 steps = 0.18435\n",
            "Cost after 4000 steps = 0.18088\n",
            "Cost after 4500 steps = 0.17788\n",
            "Cost after 5000 steps = 0.17525\n",
            "Cost after 5500 steps = 0.17291\n",
            "Cost after 6000 steps = 0.17081\n",
            "Cost after 6500 steps = 0.16891\n",
            "Cost after 7000 steps = 0.16717\n",
            "Cost after 7500 steps = 0.16557\n",
            "Cost after 8000 steps = 0.16409\n",
            "Cost after 8500 steps = 0.16271\n",
            "Cost after 9000 steps = 0.16143\n",
            "Cost after 9500 steps = 0.16023\n",
            "Cost after 10000 steps = 0.15910\n",
            "accuracy is 90.36%\n"
          ],
          "name": "stdout"
        }
      ]
    },
    {
      "cell_type": "code",
      "metadata": {
        "id": "vzbuL67TdCSs",
        "colab": {
          "base_uri": "https://localhost:8080/"
        },
        "outputId": "e7bfcb92-7d11-4c1e-abc0-1624ce22c8d8"
      },
      "source": [
        "tp_soft"
      ],
      "execution_count": null,
      "outputs": [
        {
          "output_type": "execute_result",
          "data": {
            "text/plain": [
              "3010"
            ]
          },
          "metadata": {
            "tags": []
          },
          "execution_count": 212
        }
      ]
    },
    {
      "cell_type": "code",
      "metadata": {
        "id": "bQJRn--etNc0"
      },
      "source": [
        "import matplotlib as mpl\n",
        "import matplotlib.pyplot as plt\n",
        "%matplotlib inline"
      ],
      "execution_count": null,
      "outputs": []
    },
    {
      "cell_type": "code",
      "metadata": {
        "id": "VMdZydiYzvIw",
        "colab": {
          "base_uri": "https://localhost:8080/",
          "height": 295
        },
        "outputId": "de8514e2-c767-409c-b809-a5b104563181"
      },
      "source": [
        "x = np.arange(0,10001,500)\n",
        "# print(x)\n",
        "plt.Figure(figsize=(10,8))\n",
        "plt.plot(x,cost_soft,color ='blue',label ='softmax cost')\n",
        "plt.plot(x,cost_ffnn,color ='red',label ='FFNN cost')\n",
        "plt.legend()\n",
        "plt.title(\"Cost per 500 iterations\")\n",
        "plt.xlabel(\"iterations\")\n",
        "plt.ylabel(\"Cost\")\n",
        "plt.show()"
      ],
      "execution_count": null,
      "outputs": [
        {
          "output_type": "display_data",
          "data": {
            "image/png": "[encoded data removed]",
            "text/plain": [
              "<Figure size 432x288 with 1 Axes>"
            ]
          },
          "metadata": {
            "tags": [],
            "needs_background": "light"
          }
        }
      ]
    },
    {
      "cell_type": "code",
      "metadata": {
        "id": "ZHv5WTjH4DaO"
      },
      "source": [
        ""
      ],
      "execution_count": null,
      "outputs": []
    }
  ]
}